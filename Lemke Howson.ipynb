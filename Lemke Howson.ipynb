{
 "cells": [
  {
   "cell_type": "code",
   "execution_count": 1,
   "metadata": {
    "collapsed": true
   },
   "outputs": [],
   "source": [
    "import numpy as np"
   ]
  },
  {
   "cell_type": "code",
   "execution_count": 2,
   "metadata": {
    "collapsed": false
   },
   "outputs": [],
   "source": [
    "A = np.array([[3, 3], \n",
    "              [2, 5], \n",
    "              [0, 6]])\n",
    "B_T = np.array([[3, 2, 3], \n",
    "                [2, 6, 1]])"
   ]
  },
  {
   "cell_type": "code",
   "execution_count": 121,
   "metadata": {
    "collapsed": false
   },
   "outputs": [],
   "source": [
    "def pivoting(tableau, basic_vars, pivot):\n",
    "    #divide by zero may be encountered\n",
    "    ratios = np.empty(tableau.shape[0])\n",
    "    for i in range(tableau.shape[0]):\n",
    "        if tableau[i, pivot] != 0:\n",
    "            ratios[i] = tableau[i, -1] / tableau[i, pivot]\n",
    "        else:\n",
    "            ratios[i] = 10e9\n",
    "    #ratios = tableau[:, -1] / tableau[:, pivot]\n",
    "    row_min = ratios.argmin()\n",
    "    basic_vars[row_min] = pivot\n",
    "    tableau[row_min, :] /= tableau[row_min, pivot]\n",
    "    for i in range(tableau.shape[0]):\n",
    "        if i != row_min:\n",
    "            tableau[i, :] -= tableau[i, pivot] * tableau[row_min, :]\n",
    "    return None"
   ]
  },
  {
   "cell_type": "code",
   "execution_count": 122,
   "metadata": {
    "collapsed": true
   },
   "outputs": [],
   "source": [
    "def create_tableau(A, B):\n",
    "    B_T = B.T\n",
    "    m, n = A.shape\n",
    "    tableaus = []\n",
    "    for i in range(2):\n",
    "        tableaus.append(np.empty((A.shape[1-i], m+n+1)))\n",
    "        tableaus[i][:, :m] = [B_T, np.identity(m)][i]\n",
    "        tableaus[i][:, m:m+n] = [np.identity(n), A][i]\n",
    "        tableaus[i][:, -1] = 1\n",
    "    basic_vars_list = [np.arange(m, m+n), np.arange(m)]\n",
    "    return tableaus, basic_vars_list"
   ]
  },
  {
   "cell_type": "code",
   "execution_count": 126,
   "metadata": {
    "collapsed": false
   },
   "outputs": [],
   "source": [
    "def Lemke_Howson(A, B, init_pivot):\n",
    "    tableaus, basic_vars_list = create_tableau(A, B)\n",
    "    pivoting(tableaus[0], basic_vars_list[0], init_pivot)\n",
    "    print(tableaus[0], basic_vars_list[0])\n",
    "    flag = 1\n",
    "    while True:\n",
    "        pivot = np.setdiff1d(np.arange(sum(A.shape)), np.concatenate(basic_vars_list))\n",
    "        if pivot:\n",
    "            pivoting(tableaus[flag], basic_vars_list[flag], pivot[0])\n",
    "            print(tableaus[flag], basic_vars_list[flag])\n",
    "            flag = np.setdiff1d([0,1], flag)[0]\n",
    "        else:\n",
    "            break"
   ]
  },
  {
   "cell_type": "code",
   "execution_count": 127,
   "metadata": {
    "collapsed": false
   },
   "outputs": [
    {
     "name": "stdout",
     "output_type": "stream",
     "text": [
      "[[ 2.33333333  0.          2.66666667  1.         -0.33333333  0.66666667]\n",
      " [ 0.33333333  1.          0.16666667  0.          0.16666667  0.16666667]] [3 1]\n",
      "[[ 1.          0.         -0.5         3.          0.          0.5       ]\n",
      " [ 0.          1.         -0.83333333  2.          0.          0.16666667]\n",
      " [ 0.          0.          0.16666667  0.          1.          0.16666667]] [0 1 4]\n",
      "[[ 0.875   0.      1.      0.375  -0.125   0.25  ]\n",
      " [ 0.1875  1.      0.     -0.0625  0.1875  0.125 ]] [2 1]\n",
      "[[ 1.         -1.5         0.75        0.          0.          0.25      ]\n",
      " [ 0.          0.5        -0.41666667  1.          0.          0.08333333]\n",
      " [ 0.          0.          0.16666667  0.          1.          0.16666667]] [0 3 4]\n"
     ]
    }
   ],
   "source": [
    "Lemke_Howson(A, B_T.T, 1)"
   ]
  },
  {
   "cell_type": "code",
   "execution_count": 128,
   "metadata": {
    "collapsed": true
   },
   "outputs": [],
   "source": [
    "A = np.matrix(\n",
    "    [[    9504,     -660,    19976,   -20526,     1776,    -8976],\n",
    "     [ -111771,    31680,  -130944,   168124,    -8514,    52764],\n",
    "     [  397584,  -113850,   451176,  -586476,    29216,  -178761],\n",
    "     [  171204,   -45936,   208626,  -263076,    14124,   -84436],\n",
    "     [ 1303104,  -453420,  1227336, -1718376,    72336,  -461736],\n",
    "     [  737154,  -227040,   774576, -1039236,    48081,  -300036]]\n",
    ")\n",
    "B_T = np.matrix(\n",
    "    [[   72336,  -461736,  1227336, -1718376,  1303104,  -453420],\n",
    "     [   48081,  -300036,   774576, -1039236,   737154,  -227040],\n",
    "     [   29216,  -178761,   451176,  -586476,   397584,  -113850],\n",
    "     [   14124,   -84436,   208626,  -263076,   171204,   -45936],\n",
    "     [    1776,    -8976,    19976,   -20526,     9504,     -660],\n",
    "     [   -8514,    52764,  -130944,   168124,  -111771,    31680]]\n",
    ")"
   ]
  },
  {
   "cell_type": "code",
   "execution_count": 129,
   "metadata": {
    "collapsed": false
   },
   "outputs": [
    {
     "name": "stdout",
     "output_type": "stream",
     "text": [
      "[[ -1.90235294e+04   0.00000000e+00   1.99747059e+05  -6.62494412e+05\n",
      "    8.14207059e+05  -4.19468824e+05   1.00000000e+00   0.00000000e+00\n",
      "    0.00000000e+00   0.00000000e+00  -5.14411765e+01   0.00000000e+00\n",
      "   -5.04411765e+01]\n",
      " [ -1.12844118e+04   0.00000000e+00   1.06848824e+05  -3.53124265e+05\n",
      "    4.19468824e+05  -2.04978529e+05   0.00000000e+00   1.00000000e+00\n",
      "    0.00000000e+00   0.00000000e+00  -3.34264706e+01   0.00000000e+00\n",
      "   -3.24264706e+01]\n",
      " [ -6.15382353e+03   0.00000000e+00   5.33451471e+04  -1.77691654e+05\n",
      "    2.08307647e+05  -1.00705809e+05   0.00000000e+00   0.00000000e+00\n",
      "    1.00000000e+00   0.00000000e+00  -1.99154412e+01   0.00000000e+00\n",
      "   -1.89154412e+01]\n",
      " [ -2.58258824e+03   0.00000000e+00   2.07145098e+04  -6.99907353e+04\n",
      "    8.18011765e+04  -3.97274706e+04   0.00000000e+00   0.00000000e+00\n",
      "    0.00000000e+00   1.00000000e+00  -9.40686275e+00   0.00000000e+00\n",
      "   -8.40686275e+00]\n",
      " [ -1.97860963e-01   1.00000000e+00  -2.22549020e+00   2.28676471e+00\n",
      "   -1.05882353e+00   7.35294118e-02  -0.00000000e+00  -0.00000000e+00\n",
      "   -0.00000000e+00  -0.00000000e+00  -1.11408200e-04  -0.00000000e+00\n",
      "   -1.11408200e-04]\n",
      " [  1.92593583e+03   0.00000000e+00  -1.35182353e+04   4.74651471e+04\n",
      "   -5.59032353e+04   2.78002941e+04   0.00000000e+00   0.00000000e+00\n",
      "    0.00000000e+00   0.00000000e+00   5.87834225e+00   1.00000000e+00\n",
      "    6.87834225e+00]] [ 6  7  8  9  1 11]\n",
      "[[  1.00000000e+00   2.08597604e-01   0.00000000e+00   0.00000000e+00\n",
      "    0.00000000e+00   0.00000000e+00  -1.38111628e+04   5.94837209e+03\n",
      "   -7.33860465e+03   1.45442636e+04   0.00000000e+00   2.03044397e+03\n",
      "    1.20859760e+00]\n",
      " [ -0.00000000e+00  -1.17453606e-04  -0.00000000e+00  -0.00000000e+00\n",
      "   -0.00000000e+00  -0.00000000e+00   1.31279070e+01  -3.72093023e+00\n",
      "    1.53798450e+01  -1.97467700e+01   1.00000000e+00  -6.19732206e+00\n",
      "   -1.17453606e-04]\n",
      " [  0.00000000e+00   3.43152455e+00   1.00000000e+00   0.00000000e+00\n",
      "    0.00000000e+00   0.00000000e+00   1.40390698e+04  -5.13930233e+03\n",
      "    1.83844961e+03  -9.55436693e+03   0.00000000e+00   2.29996124e+03\n",
      "    4.43152455e+00]\n",
      " [  0.00000000e+00   1.65891473e+00   0.00000000e+00   1.00000000e+00\n",
      "    0.00000000e+00   0.00000000e+00  -1.42145581e+04   6.61841860e+03\n",
      "   -8.59893023e+03   1.58273798e+04   0.00000000e+00   3.09497674e+03\n",
      "    2.65891473e+00]\n",
      " [  0.00000000e+00   8.49612403e+00   0.00000000e+00   0.00000000e+00\n",
      "    1.00000000e+00   0.00000000e+00   3.53483721e+05  -1.84262791e+05\n",
      "    1.14819535e+05  -2.89973643e+05   0.00000000e+00  -1.34465116e+04\n",
      "    9.49612403e+00]\n",
      " [  0.00000000e+00   5.64728682e+00   0.00000000e+00   0.00000000e+00\n",
      "    0.00000000e+00   1.00000000e+00   1.05951105e+05  -4.81339535e+04\n",
      "    3.50976744e+04  -8.97915504e+04   0.00000000e+00  -2.06255814e+03\n",
      "    6.64728682e+00]] [ 0 10  2  3  4  5]\n"
     ]
    }
   ],
   "source": [
    "Lemke_Howson(A, B_T.T, 1)"
   ]
  },
  {
   "cell_type": "code",
   "execution_count": null,
   "metadata": {
    "collapsed": true
   },
   "outputs": [],
   "source": []
  }
 ],
 "metadata": {
  "kernelspec": {
   "display_name": "Python [Root]",
   "language": "python",
   "name": "Python [Root]"
  },
  "language_info": {
   "codemirror_mode": {
    "name": "ipython",
    "version": 3
   },
   "file_extension": ".py",
   "mimetype": "text/x-python",
   "name": "python",
   "nbconvert_exporter": "python",
   "pygments_lexer": "ipython3",
   "version": "3.5.2"
  }
 },
 "nbformat": 4,
 "nbformat_minor": 0
}
