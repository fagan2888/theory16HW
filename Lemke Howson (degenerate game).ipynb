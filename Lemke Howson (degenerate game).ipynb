{
 "cells": [
  {
   "cell_type": "code",
   "execution_count": 72,
   "metadata": {
    "collapsed": true
   },
   "outputs": [],
   "source": [
    "import numpy as np"
   ]
  },
  {
   "cell_type": "code",
   "execution_count": 73,
   "metadata": {
    "collapsed": true
   },
   "outputs": [],
   "source": [
    "A = np.array([[3, 3],\n",
    "              [2, 5],\n",
    "              [0 ,6]])\n",
    "B_T = np.array([[3, 2, 3],\n",
    "                [3, 6, 1]])"
   ]
  },
  {
   "cell_type": "code",
   "execution_count": 74,
   "metadata": {
    "collapsed": true
   },
   "outputs": [],
   "source": [
    "def approx_equal(x, y, epsilon):\n",
    "    if y-epsilon < x < y+epsilon:\n",
    "        return True\n",
    "    return False"
   ]
  },
  {
   "cell_type": "code",
   "execution_count": 75,
   "metadata": {
    "collapsed": true
   },
   "outputs": [],
   "source": [
    "def min_set(v):\n",
    "    \n",
    "    idx = []\n",
    "    small = np.inf\n",
    "    epsilon = 10e-15\n",
    "    \n",
    "    for i in range(len(v)):\n",
    "        if v[i] < 0:\n",
    "            continue\n",
    "        if approx_equal(v[i], small, epsilon):\n",
    "            idx.append(i)\n",
    "        elif v[i] < small:\n",
    "            small = v[i]\n",
    "            idx = [i]\n",
    "    \n",
    "    return idx"
   ]
  },
  {
   "cell_type": "code",
   "execution_count": 130,
   "metadata": {
    "collapsed": true
   },
   "outputs": [],
   "source": [
    "def lexico_ratio(tableau, pivot, Crange):\n",
    "    \n",
    "    ind_nonpositive = tableau[:, pivot] <= 0\n",
    "    C = tableau[:, Crange]\n",
    "    with np.errstate(divide='ignore'):\n",
    "        C0 = tableau[:, -1] / tableau[:, pivot]\n",
    "        C0[ind_nonpositive] = np.inf\n",
    "        row_min = min_set(C0)\n",
    "    if len(row_min) == 1:\n",
    "        return row_min[0] \n",
    "    \n",
    "    for i in range(C.shape[1]):\n",
    "        Ci = (C[:, i] / tableau[:, pivot])[row_min]\n",
    "        Ci[ind_nonpositive] = np.inf\n",
    "        row_min = min_set(Ci)\n",
    "        if len(row_min) == 1:\n",
    "            return row_min[0]\n",
    "    \n",
    "    print(\"lexico minimum ratio is not found!\")"
   ]
  },
  {
   "cell_type": "code",
   "execution_count": 108,
   "metadata": {
    "collapsed": false
   },
   "outputs": [],
   "source": [
    "def pivoting(tableau, basic_vars, pivot, Crange):\n",
    "    \n",
    "    row_min = lexico_ratio(tableau, pivot, Crange)\n",
    "    tableau[row_min, :] /= tableau[row_min, pivot]\n",
    "    for i in range(tableau.shape[0]):\n",
    "        if i != row_min:\n",
    "            tableau[i, :] -= tableau[i, pivot] * tableau[row_min, :]\n",
    "    basic_vars[row_min], pivot = pivot, basic_vars[row_min]\n",
    "    return pivot"
   ]
  },
  {
   "cell_type": "code",
   "execution_count": 109,
   "metadata": {
    "collapsed": true
   },
   "outputs": [],
   "source": [
    "def create_tableau(A, B):\n",
    "    B_T = B.T\n",
    "    m, n = A.shape\n",
    "    tableaus = []\n",
    "    for i in range(2):\n",
    "        tableaus.append(np.empty((A.shape[1-i], m+n+1)))\n",
    "        tableaus[i][:, :m] = [B_T, np.identity(m)][i]\n",
    "        tableaus[i][:, m:m+n] = [np.identity(n), A][i]\n",
    "        tableaus[i][:, -1] = 1\n",
    "    basic_vars_list = [np.arange(m, m+n), np.arange(m)]\n",
    "    return tableaus, basic_vars_list"
   ]
  },
  {
   "cell_type": "code",
   "execution_count": 126,
   "metadata": {
    "collapsed": true
   },
   "outputs": [],
   "source": [
    "def Lemke_Howson(tableaus, basic_vars_list, Crange, init_pivot, return_tableau = False, show_results = False):\n",
    "    \n",
    "    m, n = tableaus[1].shape[0], tableaus[0].shape[0]\n",
    "    pivot = init_pivot\n",
    "    init_player = int((basic_vars_list[0]==init_pivot).any())\n",
    "    players = [init_player, 1 - init_player]\n",
    "    \n",
    "    while True:\n",
    "        for i in players:\n",
    "            pivot = pivoting(tableaus[i], basic_vars_list[i], pivot, Crange[i])\n",
    "            if show_results:\n",
    "                print(tableaus[i], basic_vars_list[i])\n",
    "            if pivot == init_pivot:\n",
    "                break\n",
    "        else:\n",
    "            continue\n",
    "        break\n",
    "        \n",
    "    #summarize the found NE\n",
    "    normalized = np.empty(m+n)\n",
    "    out = np.zeros(m+n)\n",
    "    for i, (start, num) in enumerate(zip([0, m], [m, n])):\n",
    "        ind = basic_vars_list[i] < start + num if i == 0 else start <= basic_vars_list[i]\n",
    "        out[basic_vars_list[i][ind]] = tableaus[i][ind, -1]\n",
    "        s = out[start:start+num].sum()\n",
    "        if s != 0:\n",
    "            for j in range(start,start+num):\n",
    "                normalized[j] = out[j] / s\n",
    "        else:\n",
    "            normalized[start:start+num] = np.zeros(num)\n",
    "    actions = normalized[:m], normalized[m:]\n",
    "    \n",
    "    if show_results:\n",
    "        print(out[:m], out[m:])\n",
    "        \n",
    "    if return_tableau:\n",
    "        return actions, tableaus, basic_vars_list\n",
    "    \n",
    "    return actions"
   ]
  },
  {
   "cell_type": "code",
   "execution_count": 127,
   "metadata": {
    "collapsed": false
   },
   "outputs": [
    {
     "name": "stdout",
     "output_type": "stream",
     "text": [
      "[[ 2.          0.          2.66666667  1.         -0.33333333  0.66666667]\n",
      " [ 0.5         1.          0.16666667  0.          0.16666667  0.16666667]] [3 1]\n",
      "[[ 1.          0.         -0.5         3.          0.          0.5       ]\n",
      " [ 0.          1.         -0.83333333  2.          0.          0.16666667]\n",
      " [ 0.          0.          0.16666667  0.          1.          0.16666667]] [0 1 4]\n",
      "[[ 0.75    0.      1.      0.375  -0.125   0.25  ]\n",
      " [ 0.375   1.      0.     -0.0625  0.1875  0.125 ]] [2 1]\n",
      "[[ 1.         -1.5         0.75        0.          0.          0.25      ]\n",
      " [ 0.          0.5        -0.41666667  1.          0.          0.08333333]\n",
      " [ 0.          0.          0.16666667  0.          1.          0.16666667]] [0 3 4]\n",
      "[ 0.     0.125  0.25 ] [ 0.08333333  0.16666667]\n"
     ]
    },
    {
     "data": {
      "text/plain": [
       "(array([ 0.        ,  0.33333333,  0.66666667]),\n",
       " array([ 0.33333333,  0.66666667]))"
      ]
     },
     "execution_count": 127,
     "metadata": {},
     "output_type": "execute_result"
    }
   ],
   "source": [
    "tableaus, basic_vars = create_tableau(A, B_T.T)\n",
    "Crange = basic_vars\n",
    "Lemke_Howson(tableaus, basic_vars, Crange, 1, show_results = True)"
   ]
  },
  {
   "cell_type": "code",
   "execution_count": 128,
   "metadata": {
    "collapsed": false
   },
   "outputs": [],
   "source": [
    "#Enumerate all NEs that can be found by Lemke Howson algorithm\n",
    "def Lemke_Howson_all(A, B):\n",
    "    \n",
    "    #define the k of V_k\n",
    "    k = 0\n",
    "    \n",
    "    tableaus, basic_vars = create_tableau(A, B)\n",
    "    Crange = basic_vars\n",
    "    m, n = A.shape\n",
    "    NEs = []\n",
    "    basic_vars_found = []\n",
    "    player = (m <= n)\n",
    "    init_pivot = k\n",
    "    \n",
    "    action, tableau, basic_vars = Lemke_Howson(tableaus, basic_vars, Crange, init_pivot, return_tableau = True)\n",
    "    NEs.append(action)\n",
    "    basic_vars_found.append(np.sort(basic_vars[player]))\n",
    "    \n",
    "    for a in range(m+n):\n",
    "        if a == k:\n",
    "            continue\n",
    "        tableaus, basic_vars = create_tableau(A, B)\n",
    "        init_pivot = a\n",
    "        action, tableau, basic_vars = Lemke_Howson(tableaus, basic_vars, Crange, init_pivot, return_tableau = True)\n",
    "        for arr in basic_vars_found:\n",
    "            if np.array_equal(np.sort(basic_vars[player]), arr):\n",
    "                break\n",
    "        else:\n",
    "            NEs.append(action)\n",
    "            basic_vars_found.append(np.sort(basic_vars[player]))\n",
    "            \n",
    "            #start from the found NE by dropping k\n",
    "            action, tableau, basic_vars = Lemke_Howson(tableaus, basic_vars, Crange, k, return_tableau = True)\n",
    "            print(action)\n",
    "            NEs.append(action)\n",
    "            basic_vars_found.append(np.sort(basic_vars[player]))\n",
    "    return NEs"
   ]
  },
  {
   "cell_type": "code",
   "execution_count": 131,
   "metadata": {
    "collapsed": false
   },
   "outputs": [
    {
     "data": {
      "text/plain": [
       "[(array([ 0.        ,  0.33333333,  0.66666667]),\n",
       "  array([ 0.33333333,  0.66666667]))]"
      ]
     },
     "execution_count": 131,
     "metadata": {},
     "output_type": "execute_result"
    }
   ],
   "source": [
    "Lemke_Howson_all(A, B_T.T)"
   ]
  },
  {
   "cell_type": "code",
   "execution_count": null,
   "metadata": {
    "collapsed": true
   },
   "outputs": [],
   "source": []
  }
 ],
 "metadata": {
  "kernelspec": {
   "display_name": "Python [Root]",
   "language": "python",
   "name": "Python [Root]"
  },
  "language_info": {
   "codemirror_mode": {
    "name": "ipython",
    "version": 3
   },
   "file_extension": ".py",
   "mimetype": "text/x-python",
   "name": "python",
   "nbconvert_exporter": "python",
   "pygments_lexer": "ipython3",
   "version": "3.5.2"
  }
 },
 "nbformat": 4,
 "nbformat_minor": 0
}
