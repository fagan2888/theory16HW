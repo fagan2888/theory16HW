{
 "cells": [
  {
   "cell_type": "code",
   "execution_count": 1,
   "metadata": {
    "collapsed": true
   },
   "outputs": [],
   "source": [
    "import numpy as np"
   ]
  },
  {
   "cell_type": "markdown",
   "metadata": {},
   "source": [
    "Lemke-Howson Algorithm"
   ]
  },
  {
   "cell_type": "code",
   "execution_count": 2,
   "metadata": {
    "collapsed": true
   },
   "outputs": [],
   "source": [
    "def pivoting(tableau, basic_vars, pivot):\n",
    "    with np.errstate(divide='ignore'):\n",
    "        ratios = tableau[:, -1] / tableau[:, pivot]\n",
    "    row_min = ratios.argmin()\n",
    "    tableau[row_min, :] /= tableau[row_min, pivot]\n",
    "    for i in range(tableau.shape[0]):\n",
    "        if i != row_min:\n",
    "            tableau[i, :] -= tableau[i, pivot] * tableau[row_min, :]\n",
    "    basic_vars[row_min], pivot = pivot, basic_vars[row_min]\n",
    "    return pivot"
   ]
  },
  {
   "cell_type": "code",
   "execution_count": 3,
   "metadata": {
    "collapsed": true
   },
   "outputs": [],
   "source": [
    "def create_tableau(A, B):\n",
    "    B_T = B.T\n",
    "    m, n = A.shape\n",
    "    tableaus = []\n",
    "    for i in range(2):\n",
    "        tableaus.append(np.empty((A.shape[1-i], m+n+1)))\n",
    "        tableaus[i][:, :m] = [B_T, np.identity(m)][i]\n",
    "        tableaus[i][:, m:m+n] = [np.identity(n), A][i]\n",
    "        tableaus[i][:, -1] = 1\n",
    "    basic_vars_list = [np.arange(m, m+n), np.arange(m)]\n",
    "    return tableaus, basic_vars_list"
   ]
  },
  {
   "cell_type": "code",
   "execution_count": 9,
   "metadata": {
    "collapsed": true
   },
   "outputs": [],
   "source": [
    "def Lemke_Howson(A, B, init_pivot):\n",
    "    m, n = A.shape\n",
    "    pivot = init_pivot\n",
    "    tableaus, basic_vars_list = create_tableau(A, B)\n",
    "    players = [init_pivot // m, 1 - init_pivot // m]\n",
    "    while True:\n",
    "        for i in players:\n",
    "            #print(i, tableaus[i])\n",
    "            pivot = pivoting(tableaus[i], basic_vars_list[i], pivot)\n",
    "            #print(tableaus[i], basic_vars_list[i])\n",
    "            if pivot == init_pivot:\n",
    "                break\n",
    "        else:\n",
    "            continue\n",
    "        break\n",
    "        \n",
    "    #summarize the found NE\n",
    "    out = np.zeros(m+n)\n",
    "    for i, (start, num) in enumerate(zip([0, m], [m, n])):\n",
    "        ind = basic_vars_list[i] < start + num if i == 0 else start <= basic_vars_list[i]\n",
    "        out[basic_vars_list[i][ind]] = tableaus[i][ind, -1]\n",
    "        out[start:start+num] /= out[start:start+num].sum()\n",
    "    \n",
    "    return out[:m], out[m:]"
   ]
  },
  {
   "cell_type": "markdown",
   "metadata": {},
   "source": [
    "Imitation"
   ]
  },
  {
   "cell_type": "code",
   "execution_count": 6,
   "metadata": {
    "collapsed": true
   },
   "outputs": [],
   "source": [
    "def create_imitation(x, y):\n",
    "    n = x.shape[0]\n",
    "    A = np.empty((n, n))\n",
    "    B = np.eye(n)\n",
    "    \n",
    "    for i in range(len(x)):\n",
    "        A[i, :] = -(x[i] - y) ** 2\n",
    "    \n",
    "    return A, B"
   ]
  },
  {
   "cell_type": "code",
   "execution_count": 19,
   "metadata": {
    "collapsed": false
   },
   "outputs": [],
   "source": [
    "def imitation_to_kakutani(F):\n",
    "    \n",
    "    x = np.array([1])\n",
    "    y = np.array([])\n",
    "    epsilon = 10e-15\n",
    "\n",
    "    #Because we may meet some bugs, we need to avoid infinite loop and dead kernel\n",
    "    count = 0\n",
    "\n",
    "    while True:\n",
    "        y = np.append(y, F(x[-1]))\n",
    "        A, B = create_imitation(x, y)\n",
    "        #I don't know why my code only works when I use init_pivot = len(x) - 1\n",
    "        #if I use init_pivot = 0 all the time, the Lemke Howson algorithm won't work\n",
    "        init_pivot = len(x) - 1\n",
    "        rho = Lemke_Howson(A, B, init_pivot)[1]\n",
    "        x = np.append(x, np.dot(rho, y))\n",
    "\n",
    "        if x[-1] - epsilon < x[-2] < x[-1] + epsilon:\n",
    "            break\n",
    "\n",
    "        #break when loop over 100 times no matter convergence or not\n",
    "        count += 1\n",
    "        if count > 100:\n",
    "            break\n",
    "    \n",
    "    return x, y"
   ]
  },
  {
   "cell_type": "code",
   "execution_count": 35,
   "metadata": {
    "collapsed": false
   },
   "outputs": [],
   "source": [
    "x1, y1 = imitation_to_kakutani(lambda x: 0.5 * x - 1)\n",
    "x2, y2 = imitation_to_kakutani(lambda x: -0.2 * x + 2)"
   ]
  },
  {
   "cell_type": "code",
   "execution_count": 36,
   "metadata": {
    "collapsed": false
   },
   "outputs": [
    {
     "name": "stdout",
     "output_type": "stream",
     "text": [
      "[ 1.         -0.5        -1.25       -1.625      -1.8125     -1.90625\n",
      " -1.953125   -1.9765625  -1.98828125 -1.99414062 -1.99707031 -1.99853516\n",
      " -1.99926758 -1.99963379 -1.99981689 -1.99990845 -1.99995422 -1.99997711\n",
      " -1.99998856 -1.99999428 -1.99999714 -1.99999857 -1.99999928 -1.99999964\n",
      " -1.99999982 -1.99999991 -1.99999996 -1.99999998 -1.99999999 -1.99999999\n",
      " -2.         -2.         -2.         -2.         -2.         -2.         -2.\n",
      " -2.         -2.         -2.         -2.         -2.         -2.         -2.\n",
      " -2.         -2.         -2.         -2.         -2.         -2.        ] [ 1.          1.8         1.64        1.672       1.6656      1.66688\n",
      "  1.666624    1.6666752   1.66666496  1.66666701  1.6666666   1.66666668\n",
      "  1.66666666  1.66666667  1.66666667  1.66666667  1.66666667  1.66666667\n",
      "  1.66666667  1.66666667  1.66666667  1.66666667]\n"
     ]
    }
   ],
   "source": [
    "print(x1, x2)"
   ]
  },
  {
   "cell_type": "code",
   "execution_count": 37,
   "metadata": {
    "collapsed": false
   },
   "outputs": [
    {
     "data": {
      "text/plain": [
       "-2.0"
      ]
     },
     "execution_count": 37,
     "metadata": {},
     "output_type": "execute_result"
    }
   ],
   "source": [
    "-1 / (1 - 0.5)"
   ]
  },
  {
   "cell_type": "code",
   "execution_count": 38,
   "metadata": {
    "collapsed": false
   },
   "outputs": [
    {
     "data": {
      "text/plain": [
       "1.6666666666666667"
      ]
     },
     "execution_count": 38,
     "metadata": {},
     "output_type": "execute_result"
    }
   ],
   "source": [
    "2 / (1 + 0.2)"
   ]
  },
  {
   "cell_type": "code",
   "execution_count": 39,
   "metadata": {
    "collapsed": true
   },
   "outputs": [],
   "source": [
    "import matplotlib.pyplot as plt\n",
    "%matplotlib inline"
   ]
  },
  {
   "cell_type": "code",
   "execution_count": 40,
   "metadata": {
    "collapsed": false
   },
   "outputs": [
    {
     "data": {
      "image/png": "[encoded data removed]",
      "text/plain": [
       "<matplotlib.figure.Figure at 0x10f501470>"
      ]
     },
     "metadata": {},
     "output_type": "display_data"
    }
   ],
   "source": [
    "plt.figure()\n",
    "plt.plot(range(len(x1)), x1, range(len(x2)), x2)\n",
    "plt.show()"
   ]
  },
  {
   "cell_type": "code",
   "execution_count": null,
   "metadata": {
    "collapsed": true
   },
   "outputs": [],
   "source": []
  }
 ],
 "metadata": {
  "kernelspec": {
   "display_name": "Python [Root]",
   "language": "python",
   "name": "Python [Root]"
  },
  "language_info": {
   "codemirror_mode": {
    "name": "ipython",
    "version": 3
   },
   "file_extension": ".py",
   "mimetype": "text/x-python",
   "name": "python",
   "nbconvert_exporter": "python",
   "pygments_lexer": "ipython3",
   "version": "3.5.2"
  }
 },
 "nbformat": 4,
 "nbformat_minor": 0
}
