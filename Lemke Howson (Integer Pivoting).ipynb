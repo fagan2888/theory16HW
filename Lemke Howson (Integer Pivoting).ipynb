{
 "cells": [
  {
   "cell_type": "markdown",
   "metadata": {},
   "source": [
    "All rows except the pivot row can be divided by the previous pivot element.  \n",
    "$$\n",
    "initial\\ tableau:\n",
    "\\begin{bmatrix}\n",
    "a_1 & a_2& a_3 \\\\\n",
    "b_1 & b_2 & b_3 \\\\\n",
    "c_1 & c_2 & c_3\n",
    "\\end{bmatrix}\n",
    "$$\n",
    "choose the initial pivot as $a_2$\n",
    "$$\n",
    "\\Rightarrow\n",
    "\\begin{bmatrix}\n",
    "a_1 & a_2& a_3 \\\\\n",
    "a_2b_1-a_1b_2 & 0 & a_2b_3-a_3b_2 \\\\\n",
    "a_2c_1-a_1c_2 & 0 & a_2c_3-a_3c_2\n",
    "\\end{bmatrix}\n",
    "$$\n",
    "without losing generality, choose $a_2b_1-a_1b_2$ as next pivot:\n",
    "$$\n",
    "\\Rightarrow\n",
    "\\begin{bmatrix}\n",
    "0 & a_2(a_2b_1-a_1b_2)& a_3(a_2b_1-a_1b_2)-a_1(a_2b_3-a_3b_2) \\\\\n",
    "a_2b_1-a_1b_2 & 0 & a_2b_3-a_3b_2 \\\\\n",
    "0 & 0 & (a_2c_3-a_3c_2)(a_2b_1-a_1b_2)-(a_2c_1-a_1c_2)(a_2b_3-a_3b_2)\n",
    "\\end{bmatrix}\n",
    "$$\n",
    "$$\n",
    "\\Rightarrow\n",
    "\\begin{bmatrix}\n",
    "0 & a_2(a_2b_1-a_1b_2)& a_2(a_3b_1-a_1b_3) \\\\\n",
    "a_2b_1-a_1b_2 & 0 & a_2b_3-a_3b_2 \\\\\n",
    "0 & 0 & a_2(some\\ constant)\n",
    "\\end{bmatrix}\n",
    "$$\n",
    "The entry $a_2(some\\ constant)$ is got because the only term $a_3c_2a_1b_2$ that has no $a_2$ is cancalled by $-a_3c_2a_1b_2$  \n",
    "Proof done."
   ]
  },
  {
   "cell_type": "code",
   "execution_count": 4,
   "metadata": {
    "collapsed": true
   },
   "outputs": [],
   "source": [
    "import numpy as np"
   ]
  },
  {
   "cell_type": "code",
   "execution_count": 5,
   "metadata": {
    "collapsed": true
   },
   "outputs": [],
   "source": [
    "A = np.array([[3, 3], \n",
    "              [2, 5], \n",
    "              [0, 6]])\n",
    "B_T = np.array([[3, 2, 3], \n",
    "                [2, 6, 1]])"
   ]
  },
  {
   "cell_type": "code",
   "execution_count": 46,
   "metadata": {
    "collapsed": false
   },
   "outputs": [],
   "source": [
    "def pivoting(tableau, basic_vars, pivot, previous_pivot):\n",
    "    with np.errstate(divide='ignore'):\n",
    "        ratios = tableau[:, -1] / tableau[:, pivot]\n",
    "    row_min = ratios.argmin()\n",
    "    element = tableau[row_min, pivot]\n",
    "    for i in range(tableau.shape[0]):\n",
    "        if i != row_min:\n",
    "            tableau[i, :] -= tableau[i, pivot] * tableau[row_min, :] / element\n",
    "            tableau[i, :] *= element\n",
    "            tableau[i, :] /= previous_pivot\n",
    "    basic_vars[row_min], pivot = pivot, basic_vars[row_min]\n",
    "    return pivot, element"
   ]
  },
  {
   "cell_type": "code",
   "execution_count": 47,
   "metadata": {
    "collapsed": true
   },
   "outputs": [],
   "source": [
    "def create_tableau(A, B):\n",
    "    B_T = B.T\n",
    "    m, n = A.shape\n",
    "    tableaus = []\n",
    "    for i in range(2):\n",
    "        tableaus.append(np.empty((A.shape[1-i], m+n+1)))\n",
    "        tableaus[i][:, :m] = [B_T, np.identity(m)][i]\n",
    "        tableaus[i][:, m:m+n] = [np.identity(n), A][i]\n",
    "        tableaus[i][:, -1] = 1\n",
    "    basic_vars_list = [np.arange(m, m+n), np.arange(m)]\n",
    "    return tableaus, basic_vars_list"
   ]
  },
  {
   "cell_type": "code",
   "execution_count": 71,
   "metadata": {
    "collapsed": false
   },
   "outputs": [],
   "source": [
    "def Lemke_Howson(A, B, init_pivot):\n",
    "    m, n = A.shape\n",
    "    pivot = init_pivot\n",
    "    tableaus, basic_vars_list = create_tableau(A, B)\n",
    "    players = [init_pivot // m, 1 - init_pivot // m]\n",
    "    #store the pivots of previous turn\n",
    "    pivots_element = [1, 1]\n",
    "    while True:\n",
    "        for i in players:\n",
    "            pivot, pivots_element[i] = pivoting(tableaus[i], basic_vars_list[i], pivot, pivots_element[i])\n",
    "            print(tableaus[i], basic_vars_list[i])\n",
    "            if pivot == init_pivot:\n",
    "                break\n",
    "        else:\n",
    "            continue\n",
    "        break\n",
    "    #summarize the found NE\n",
    "    out = np.zeros(m+n)\n",
    "    for i, (start, num) in enumerate(zip([0, m], [m, n])):\n",
    "        ind = basic_vars_list[i] < start + num if i == 0 else start <= basic_vars_list[i]\n",
    "        out[basic_vars_list[i][ind]] = tableaus[i][ind, -1]\n",
    "        out[start:start+num] /= out[start:start+num].sum()\n",
    "    \n",
    "    print(out[:m], out[m:])"
   ]
  },
  {
   "cell_type": "code",
   "execution_count": 72,
   "metadata": {
    "collapsed": false
   },
   "outputs": [
    {
     "name": "stdout",
     "output_type": "stream",
     "text": [
      "[[ 14.   0.  16.   6.  -2.   4.]\n",
      " [  2.   6.   1.   0.   1.   1.]] [3 1]\n",
      "[[  6.   0.  -3.  18.   0.   3.]\n",
      " [  0.   6.  -5.  12.   0.   1.]\n",
      " [  0.   0.   1.   0.   6.   1.]] [0 1 4]\n",
      "[[ 14.   0.  16.   6.  -2.   4.]\n",
      " [  3.  16.   0.  -1.   3.   2.]] [2 1]\n",
      "[[ 12. -18.   9.   0.   0.   3.]\n",
      " [  0.   6.  -5.  12.   0.   1.]\n",
      " [  0.   0.   2.   0.  12.   2.]] [0 3 4]\n",
      "[ 0.          0.33333333  0.66666667] [ 0.33333333  0.66666667]\n"
     ]
    }
   ],
   "source": [
    "Lemke_Howson(A, B_T.T, 1)"
   ]
  },
  {
   "cell_type": "code",
   "execution_count": null,
   "metadata": {
    "collapsed": true
   },
   "outputs": [],
   "source": []
  }
 ],
 "metadata": {
  "anaconda-cloud": {},
  "kernelspec": {
   "display_name": "Python [Root]",
   "language": "python",
   "name": "Python [Root]"
  },
  "language_info": {
   "codemirror_mode": {
    "name": "ipython",
    "version": 3
   },
   "file_extension": ".py",
   "mimetype": "text/x-python",
   "name": "python",
   "nbconvert_exporter": "python",
   "pygments_lexer": "ipython3",
   "version": "3.5.2"
  }
 },
 "nbformat": 4,
 "nbformat_minor": 0
}
