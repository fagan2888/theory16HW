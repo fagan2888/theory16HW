{
 "cells": [
  {
   "cell_type": "code",
   "execution_count": 6,
   "metadata": {
    "collapsed": true
   },
   "outputs": [],
   "source": [
    "import numpy as np\n",
    "from itertools import combinations"
   ]
  },
  {
   "cell_type": "code",
   "execution_count": 111,
   "metadata": {
    "collapsed": false
   },
   "outputs": [],
   "source": [
    "def Nondegenerate_Enumeration(A,B):\n",
    "    NEs ={}\n",
    "    M = np.arange(A.shape[0])\n",
    "    N = np.arange(A.shape[1])\n",
    "    K = np.min(A.shape)\n",
    "    for k in np.arange(1,K+1,1):\n",
    "        NEs[k] = []\n",
    "        for I in combinations(range(A.shape[0]), k):\n",
    "            for J in combinations(range(A.shape[1]), k):\n",
    "                AIJ = A[I,:][:,J]\n",
    "                BJI = B[I,:][:,J].getT()\n",
    "                s1 = np.row_stack((np.c_[AIJ,-np.ones(AIJ.shape[0])],np.r_[np.ones(AIJ.shape[1]),[0]])).getI().dot(np.matrix(np.r_[np.zeros(AIJ.shape[0]),[1]]).getT())\n",
    "                s2 = np.row_stack((np.c_[BJI,-np.ones(BJI.shape[0])],np.r_[np.ones(BJI.shape[1]),[0]])).getI().dot(np.matrix(np.r_[np.zeros(BJI.shape[0]),[1]]).getT())\n",
    "                #Now let's check whether the solution satisfies NE\n",
    "                if (s1[:-1]>0).all() & (s2[:-1]>0).all():\n",
    "                    if (A[[i for i in M if i not in I],:][:,J].dot(s1[:-1])<=s1[-1]).all() & (B[I,:][:,[j for j in N if j not in J]].getT().dot(s2[:-1])<=s2[-1]).all():\n",
    "                        xI = np.zeros(A.shape[0])\n",
    "                        xI.flat[np.array(I)] = s2[:-1]\n",
    "                        yJ = np.zeros(A.shape[1])\n",
    "                        yJ.flat[np.array(J)] = s1[:-1]\n",
    "                        NEs[k].append({'yJ':yJ,'u':s1[-1],'xI':xI,'v':s2[-1]})\n",
    "                else:\n",
    "                    continue\n",
    "    return NEs"
   ]
  },
  {
   "cell_type": "code",
   "execution_count": 117,
   "metadata": {
    "collapsed": false
   },
   "outputs": [],
   "source": [
    "a = np.matrix([[3,3],[2,5],[0,6]])\n",
    "b = np.matrix([[3,2],[2,6],[3,1]])"
   ]
  },
  {
   "cell_type": "code",
   "execution_count": 118,
   "metadata": {
    "collapsed": false
   },
   "outputs": [
    {
     "name": "stdout",
     "output_type": "stream",
     "text": [
      "[ 0.  0.  0.] (0,) [[ 1.]]\n",
      "[ 0.  0.  0.] (0, 1) [[ 0.8]\n",
      " [ 0.2]]\n",
      "[ 0.  0.  0.] (1, 2) [[ 0.33333333]\n",
      " [ 0.66666667]]\n"
     ]
    },
    {
     "data": {
      "text/plain": [
       "{1: [{'u': matrix([[ 3.]]),\n",
       "   'v': matrix([[ 3.]]),\n",
       "   'xI': array([ 1.,  0.,  0.]),\n",
       "   'yJ': array([ 1.,  0.])}],\n",
       " 2: [{'u': matrix([[ 3.]]),\n",
       "   'v': matrix([[ 2.8]]),\n",
       "   'xI': array([ 0.8,  0.2,  0. ]),\n",
       "   'yJ': array([ 0.66666667,  0.33333333])},\n",
       "  {'u': matrix([[ 4.]]),\n",
       "   'v': matrix([[ 2.66666667]]),\n",
       "   'xI': array([ 0.        ,  0.33333333,  0.66666667]),\n",
       "   'yJ': array([ 0.33333333,  0.66666667])}]}"
      ]
     },
     "execution_count": 118,
     "metadata": {},
     "output_type": "execute_result"
    }
   ],
   "source": [
    "Nondegenerate_Enumeration(a,b)"
   ]
  },
  {
   "cell_type": "code",
   "execution_count": null,
   "metadata": {
    "collapsed": true
   },
   "outputs": [],
   "source": []
  }
 ],
 "metadata": {
  "anaconda-cloud": {},
  "kernelspec": {
   "display_name": "Python [Root]",
   "language": "python",
   "name": "Python [Root]"
  },
  "language_info": {
   "codemirror_mode": {
    "name": "ipython",
    "version": 3
   },
   "file_extension": ".py",
   "mimetype": "text/x-python",
   "name": "python",
   "nbconvert_exporter": "python",
   "pygments_lexer": "ipython3",
   "version": "3.5.2"
  }
 },
 "nbformat": 4,
 "nbformat_minor": 0
}
