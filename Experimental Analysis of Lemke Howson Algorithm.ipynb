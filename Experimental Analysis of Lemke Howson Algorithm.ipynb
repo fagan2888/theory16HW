{
 "cells": [
  {
   "cell_type": "code",
   "execution_count": 18,
   "metadata": {
    "collapsed": false
   },
   "outputs": [],
   "source": [
    "import numpy as np\n",
    "from quantecon.game_theory import lemke_howson, NormalFormGame, Player\n",
    "import matplotlib.pyplot as plt\n",
    "%matplotlib inline"
   ]
  },
  {
   "cell_type": "code",
   "execution_count": 2,
   "metadata": {
    "collapsed": false
   },
   "outputs": [],
   "source": [
    "def Experimental_Analysis(n, loops, capping = False):\n",
    "    \n",
    "    step = []\n",
    "    for i in range(loops):\n",
    "        num = 0\n",
    "        A,B = [np.random.rand(n, n) for i in range(2)]\n",
    "        q = NormalFormGame((Player(A), Player(B)))\n",
    "        if capping:\n",
    "            num = lemke_howson(q, init_pivot = 0)[1]\n",
    "            step.append(num)\n",
    "        else:\n",
    "            for j in range(n):\n",
    "                num_iter, success = lemke_howson(q, init_pivot = 0, max_iter = capping)[1:]\n",
    "                num += num_iter\n",
    "                if success:\n",
    "                    step.append(num)\n",
    "                    break\n",
    "            if not success:\n",
    "                num = lemke_howson(q, init_pivot = 0)[1]\n",
    "                step.append(num)\n",
    "    return step"
   ]
  },
  {
   "cell_type": "code",
   "execution_count": 103,
   "metadata": {
    "collapsed": false
   },
   "outputs": [],
   "source": [
    "step1 = np.array(Experimental_Analysis(40, 1000, capping = 10))\n",
    "step2 = np.array(Experimental_Analysis(40, 1000))"
   ]
  },
  {
   "cell_type": "code",
   "execution_count": 104,
   "metadata": {
    "collapsed": false
   },
   "outputs": [
    {
     "data": {
      "text/plain": [
       "116.251"
      ]
     },
     "execution_count": 104,
     "metadata": {},
     "output_type": "execute_result"
    }
   ],
   "source": [
    "np.mean(step1)"
   ]
  },
  {
   "cell_type": "code",
   "execution_count": 105,
   "metadata": {
    "collapsed": false
   },
   "outputs": [
    {
     "data": {
      "text/plain": [
       "128.21299999999999"
      ]
     },
     "execution_count": 105,
     "metadata": {},
     "output_type": "execute_result"
    }
   ],
   "source": [
    "np.mean(step2)"
   ]
  },
  {
   "cell_type": "code",
   "execution_count": 106,
   "metadata": {
    "collapsed": false
   },
   "outputs": [
    {
     "data": {
      "image/png": "[encoded data removed]",
      "text/plain": [
       "<matplotlib.figure.Figure at 0x11ee45780>"
      ]
     },
     "metadata": {},
     "output_type": "display_data"
    }
   ],
   "source": [
    "plt.figure()\n",
    "\n",
    "for (step, c) in zip([step1, step2], ['b', 'r']):\n",
    "    plt.hist(step, bins=np.arange(0, 300, 2), color = c)\n",
    "\n",
    "plt.show()"
   ]
  },
  {
   "cell_type": "code",
   "execution_count": null,
   "metadata": {
    "collapsed": true
   },
   "outputs": [],
   "source": []
  }
 ],
 "metadata": {
  "anaconda-cloud": {},
  "kernelspec": {
   "display_name": "Python [Root]",
   "language": "python",
   "name": "Python [Root]"
  },
  "language_info": {
   "codemirror_mode": {
    "name": "ipython",
    "version": 3
   },
   "file_extension": ".py",
   "mimetype": "text/x-python",
   "name": "python",
   "nbconvert_exporter": "python",
   "pygments_lexer": "ipython3",
   "version": "3.5.2"
  }
 },
 "nbformat": 4,
 "nbformat_minor": 0
}
