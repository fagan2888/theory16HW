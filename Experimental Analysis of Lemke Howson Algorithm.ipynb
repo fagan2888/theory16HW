{
 "cells": [
  {
   "cell_type": "code",
   "execution_count": 107,
   "metadata": {
    "collapsed": false
   },
   "outputs": [],
   "source": [
    "import numpy as np\n",
    "from quantecon.game_theory import lemke_howson, NormalFormGame, Player\n",
    "import matplotlib.pyplot as plt\n",
    "%matplotlib inline"
   ]
  },
  {
   "cell_type": "code",
   "execution_count": 119,
   "metadata": {
    "collapsed": false
   },
   "outputs": [],
   "source": [
    "def Experimental_Analysis(n, loops, capping = False):\n",
    "    \n",
    "    step = []\n",
    "    for i in range(loops):\n",
    "        num = 0\n",
    "        A,B = [np.random.rand(n, n) for i in range(2)]\n",
    "        q = NormalFormGame((Player(A), Player(B)))\n",
    "        if not capping:\n",
    "            num = lemke_howson(q, init_pivot = 0)[1]\n",
    "            step.append(num)\n",
    "        else:\n",
    "            for j in range(n):\n",
    "                num_iter, success = lemke_howson(q, init_pivot = j, max_iter = capping)[1:]\n",
    "                num += num_iter\n",
    "                if success:\n",
    "                    step.append(num)\n",
    "                    break\n",
    "            if not success:\n",
    "                num = lemke_howson(q, init_pivot = 0)[1]\n",
    "                step.append(num)\n",
    "                \n",
    "    return step"
   ]
  },
  {
   "cell_type": "code",
   "execution_count": 124,
   "metadata": {
    "collapsed": false
   },
   "outputs": [],
   "source": [
    "step1 = np.array(Experimental_Analysis(40, 10000, capping = 10))\n",
    "step2 = np.array(Experimental_Analysis(40, 10000))"
   ]
  },
  {
   "cell_type": "code",
   "execution_count": 125,
   "metadata": {
    "collapsed": false
   },
   "outputs": [
    {
     "data": {
      "text/plain": [
       "55.871899999999997"
      ]
     },
     "execution_count": 125,
     "metadata": {},
     "output_type": "execute_result"
    }
   ],
   "source": [
    "np.mean(step1)"
   ]
  },
  {
   "cell_type": "code",
   "execution_count": 126,
   "metadata": {
    "collapsed": false
   },
   "outputs": [
    {
     "data": {
      "text/plain": [
       "110.6525"
      ]
     },
     "execution_count": 126,
     "metadata": {},
     "output_type": "execute_result"
    }
   ],
   "source": [
    "np.mean(step2)"
   ]
  },
  {
   "cell_type": "code",
   "execution_count": 127,
   "metadata": {
    "collapsed": false
   },
   "outputs": [
    {
     "data": {
      "image/png": "[encoded data removed]",
      "text/plain": [
       "<matplotlib.figure.Figure at 0x11de597b8>"
      ]
     },
     "metadata": {},
     "output_type": "display_data"
    }
   ],
   "source": [
    "plt.figure()\n",
    "\n",
    "for (step, c) in zip([step1, step2], ['b', 'r']):\n",
    "    plt.hist(step, bins=np.arange(0, 300, 2), color = c)\n",
    "\n",
    "plt.show()"
   ]
  },
  {
   "cell_type": "code",
   "execution_count": null,
   "metadata": {
    "collapsed": true
   },
   "outputs": [],
   "source": []
  }
 ],
 "metadata": {
  "anaconda-cloud": {},
  "kernelspec": {
   "display_name": "Python [Root]",
   "language": "python",
   "name": "Python [Root]"
  },
  "language_info": {
   "codemirror_mode": {
    "name": "ipython",
    "version": 3
   },
   "file_extension": ".py",
   "mimetype": "text/x-python",
   "name": "python",
   "nbconvert_exporter": "python",
   "pygments_lexer": "ipython3",
   "version": "3.5.2"
  }
 },
 "nbformat": 4,
 "nbformat_minor": 0
}
