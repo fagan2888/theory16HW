{
 "cells": [
  {
   "cell_type": "markdown",
   "metadata": {},
   "source": [
    "Float Version"
   ]
  },
  {
   "cell_type": "code",
   "execution_count": 15,
   "metadata": {
    "collapsed": true
   },
   "outputs": [],
   "source": [
    "import numpy as np"
   ]
  },
  {
   "cell_type": "code",
   "execution_count": 16,
   "metadata": {
    "collapsed": true
   },
   "outputs": [],
   "source": [
    "A = np.array([[3, 3],\n",
    "              [2, 5],\n",
    "              [0 ,6]])\n",
    "B_T = np.array([[3, 2, 3],\n",
    "                [2, 6, 1]])"
   ]
  },
  {
   "cell_type": "code",
   "execution_count": 17,
   "metadata": {
    "collapsed": false
   },
   "outputs": [],
   "source": [
    "def pivoting(tableau, basic_vars, pivot):\n",
    "    \n",
    "    ind_nonpositive = tableau[:, pivot] <= 0\n",
    "    with np.errstate(divide='ignore', invalid='ignore'):\n",
    "        ratios = tableau[:, -1] / tableau[:, pivot]\n",
    "    ratios[ind_nonpositive] = np.inf\n",
    "            \n",
    "    row_min = ratios.argmin()\n",
    "    tableau[row_min, :] /= tableau[row_min, pivot]\n",
    "    \n",
    "    for i in range(tableau.shape[0]):\n",
    "        if i != row_min:\n",
    "            tableau[i, :] -= tableau[i, pivot] * tableau[row_min, :]\n",
    "    basic_vars[row_min], pivot = pivot, basic_vars[row_min]\n",
    "    \n",
    "    return pivot"
   ]
  },
  {
   "cell_type": "code",
   "execution_count": 18,
   "metadata": {
    "collapsed": true
   },
   "outputs": [],
   "source": [
    "def create_tableau(A, B):\n",
    "    B_T = B.T\n",
    "    m, n = A.shape\n",
    "    tableaus = []\n",
    "    \n",
    "    for i in range(2):\n",
    "        tableaus.append(np.empty((A.shape[1-i], m+n+1)))\n",
    "        tableaus[i][:, :m] = [B_T, np.identity(m)][i]\n",
    "        tableaus[i][:, m:m+n] = [np.identity(n), A][i]\n",
    "        tableaus[i][:, -1] = 1\n",
    "        \n",
    "    basic_vars_list = [np.arange(m, m+n), np.arange(m)]\n",
    "    \n",
    "    return tableaus, basic_vars_list"
   ]
  },
  {
   "cell_type": "code",
   "execution_count": 45,
   "metadata": {
    "collapsed": true
   },
   "outputs": [],
   "source": [
    "def Lemke_Howson(tableaus, basic_vars_list, init_pivot, return_tableau = False, show_results = False):\n",
    "    \n",
    "    m, n = tableaus[1].shape[0], tableaus[0].shape[0]\n",
    "    pivot = init_pivot\n",
    "    init_player = int((basic_vars_list[0]==init_pivot).any())\n",
    "    players = [init_player, 1 - init_player]\n",
    "    \n",
    "    while True:\n",
    "        for i in players:\n",
    "            pivot = pivoting(tableaus[i], basic_vars_list[i], pivot)\n",
    "            if show_results:\n",
    "                print(tableaus[i], basic_vars_list[i])\n",
    "            if pivot == init_pivot:\n",
    "                break\n",
    "        else:\n",
    "            continue\n",
    "        break\n",
    "        \n",
    "    #summarize the found NE\n",
    "    normalized = np.empty(m+n)\n",
    "    out = np.zeros(m+n)\n",
    "    for i, (start, num) in enumerate(zip([0, m], [m, n])):\n",
    "        ind = basic_vars_list[i] < start + num if i == 0 else start <= basic_vars_list[i]\n",
    "        out[basic_vars_list[i][ind]] = tableaus[i][ind, -1]\n",
    "        s = out[start:start+num].sum()\n",
    "        if s != 0:\n",
    "            for j in range(start,start+num):\n",
    "                normalized[j] = out[j] / s\n",
    "        else:\n",
    "            normalized[start:start+num] = np.zeros(num)\n",
    "    actions = normalized[:m], normalized[m:]\n",
    "    \n",
    "    if show_results:\n",
    "        print(out[:m], out[m:])\n",
    "        \n",
    "    if return_tableau:\n",
    "        return actions, tableaus, basic_vars_list\n",
    "    \n",
    "    return actions"
   ]
  },
  {
   "cell_type": "code",
   "execution_count": 33,
   "metadata": {
    "collapsed": false
   },
   "outputs": [
    {
     "data": {
      "text/plain": [
       "((array([ 0.        ,  0.33333333,  0.66666667]),\n",
       "  array([ 0.33333333,  0.66666667])),\n",
       " [array([[ 0.875 ,  0.    ,  1.    ,  0.375 , -0.125 ,  0.25  ],\n",
       "         [ 0.1875,  1.    ,  0.    , -0.0625,  0.1875,  0.125 ]]),\n",
       "  array([[ 1.        , -1.5       ,  0.75      ,  0.        ,  0.        ,\n",
       "           0.25      ],\n",
       "         [ 0.        ,  0.5       , -0.41666667,  1.        ,  0.        ,\n",
       "           0.08333333],\n",
       "         [ 0.        ,  0.        ,  0.16666667,  0.        ,  1.        ,\n",
       "           0.16666667]])],\n",
       " [array([2, 1]), array([0, 3, 4])])"
      ]
     },
     "execution_count": 33,
     "metadata": {},
     "output_type": "execute_result"
    }
   ],
   "source": [
    "tableaus, basic_vars_list = create_tableau(A, B_T.T)\n",
    "Lemke_Howson(tableaus, basic_vars_list, 1, return_tableau = True)"
   ]
  },
  {
   "cell_type": "code",
   "execution_count": 21,
   "metadata": {
    "collapsed": false
   },
   "outputs": [],
   "source": [
    "#Enumerate all NEs that can be found by Lemke Howson algorithm\n",
    "def Lemke_Howson_all(A, B):\n",
    "    \n",
    "    #define the k of V_k\n",
    "    k = 0\n",
    "    \n",
    "    tableaus, basic_vars = create_tableau(A, B)\n",
    "    m, n = A.shape\n",
    "    NEs = []\n",
    "    basic_vars_found = []\n",
    "    player = (m <= n)\n",
    "    init_pivot = k\n",
    "    \n",
    "    action, tableau, basic_vars = Lemke_Howson(tableaus, basic_vars, init_pivot, return_tableau = True)\n",
    "    NEs.append(action)\n",
    "    basic_vars_found.append(np.sort(basic_vars[player]))\n",
    "    \n",
    "    for a in range(m+n):\n",
    "        if a == k:\n",
    "            continue\n",
    "        tableaus, basic_vars = create_tableau(A, B)\n",
    "        init_pivot = a\n",
    "        action, tableau, basic_vars = Lemke_Howson(tableaus, basic_vars, init_pivot, return_tableau = True)\n",
    "        for arr in basic_vars_found:\n",
    "            if np.array_equal(np.sort(basic_vars[player]), arr):\n",
    "                break\n",
    "        else:\n",
    "            NEs.append(action)\n",
    "            basic_vars_found.append(np.sort(basic_vars[player]))\n",
    "            \n",
    "            #start from the found NE by dropping k\n",
    "            action, tableau, basic_vars = Lemke_Howson(tableaus, basic_vars, k, return_tableau = True)\n",
    "            NEs.append(action)\n",
    "            basic_vars_found.append(np.sort(basic_vars[player]))\n",
    "    return NEs"
   ]
  },
  {
   "cell_type": "code",
   "execution_count": 22,
   "metadata": {
    "collapsed": false
   },
   "outputs": [
    {
     "data": {
      "text/plain": [
       "[(array([ 1.,  0.,  0.]), array([ 1.,  0.])),\n",
       " (array([ 0.        ,  0.33333333,  0.66666667]),\n",
       "  array([ 0.33333333,  0.66666667])),\n",
       " (array([ 0.8,  0.2,  0. ]), array([ 0.66666667,  0.33333333]))]"
      ]
     },
     "execution_count": 22,
     "metadata": {},
     "output_type": "execute_result"
    }
   ],
   "source": [
    "Lemke_Howson_all(A, B_T.T)"
   ]
  },
  {
   "cell_type": "markdown",
   "metadata": {},
   "source": [
    "Integer Version"
   ]
  },
  {
   "cell_type": "code",
   "execution_count": 23,
   "metadata": {
    "collapsed": true
   },
   "outputs": [],
   "source": [
    "import sympy as sp"
   ]
  },
  {
   "cell_type": "code",
   "execution_count": 24,
   "metadata": {
    "collapsed": true
   },
   "outputs": [],
   "source": [
    "def create_tableau_int(A, B):\n",
    "    B_T = B.T\n",
    "    m, n = A.shape\n",
    "    tableaus = []\n",
    "    \n",
    "    for i in range(2):\n",
    "        tableaus.append(np.empty((A.shape[1-i], m+n+1), dtype=int))\n",
    "        tableaus[i][:, :m] = [B_T, np.identity(m)][i]\n",
    "        tableaus[i][:, m:m+n] = [np.identity(n), A][i]\n",
    "        tableaus[i][:, -1] = 1\n",
    "        \n",
    "    basic_vars_list = [np.arange(m, m+n), np.arange(m)]\n",
    "    \n",
    "    return tableaus, basic_vars_list"
   ]
  },
  {
   "cell_type": "code",
   "execution_count": 25,
   "metadata": {
    "collapsed": true
   },
   "outputs": [],
   "source": [
    "def pivoting_int(tableau, basic_vars, pivot, previous_pivot):\n",
    "    \n",
    "    with np.errstate(divide='ignore'):\n",
    "        ratios = tableau[:, -1] / tableau[:, pivot]\n",
    "    for i in range(len(ratios)):\n",
    "        if ratios[i] < 0:\n",
    "            ratios[i] = np.inf\n",
    "    row_min = ratios.argmin()\n",
    "    element = tableau[row_min, pivot]\n",
    "    \n",
    "    for i in range(tableau.shape[0]):\n",
    "        if i != row_min:\n",
    "            elementi = tableau[i, pivot]\n",
    "            tableau[i, :] *= element\n",
    "            tableau[i, :] -= elementi * tableau[row_min, :]\n",
    "            tableau[i, :] //= previous_pivot\n",
    "    basic_vars[row_min], pivot = pivot, basic_vars[row_min]\n",
    "    \n",
    "    return pivot, element"
   ]
  },
  {
   "cell_type": "code",
   "execution_count": 44,
   "metadata": {
    "collapsed": false
   },
   "outputs": [],
   "source": [
    "def Lemke_Howson_int(tableaus, basic_vars_list, init_pivot, return_tableau = False, show_results = False):\n",
    "    \n",
    "    m, n = tableaus[1].shape[0], tableaus[0].shape[0]\n",
    "    pivot = init_pivot\n",
    "    init_player = int((basic_vars_list[0]==init_pivot).any())\n",
    "    players = [init_player, 1 - init_player]\n",
    "    \n",
    "    #store the pivots of previous turn\n",
    "    pivots_element = [1, 1]\n",
    "    \n",
    "    while True:\n",
    "        for i in players:\n",
    "            pivot, pivots_element[i] = pivoting_int(tableaus[i], basic_vars_list[i], pivot, pivots_element[i])\n",
    "            if show_results:\n",
    "                print(tableaus[i], basic_vars_list[i])\n",
    "            if pivot == init_pivot:\n",
    "                break\n",
    "        else:\n",
    "            continue\n",
    "        break\n",
    "        \n",
    "    #summarize the found NE\n",
    "    normalized = np.empty(m+n, np.object_)\n",
    "    out = np.zeros(m+n)\n",
    "    for i, (start, num) in enumerate(zip([0, m], [m, n])):\n",
    "        ind = basic_vars_list[i] < start + num if i == 0 else start <= basic_vars_list[i]\n",
    "        out[basic_vars_list[i][ind]] = tableaus[i][ind, -1]\n",
    "        s = out[start:start+num].sum()\n",
    "        if s != 0:\n",
    "            for j in range(start,start+num):\n",
    "                normalized[j] = sp.Rational(sp.S(out[j]), sp.S(s))\n",
    "        else:\n",
    "            normalized[start:start+num] = sp.Rational(0)\n",
    "    actions = normalized[:m], normalized[m:]\n",
    "    \n",
    "    if show_results:\n",
    "        print(normalized[:m], normalized[m:])\n",
    "        \n",
    "    if return_tableau:\n",
    "        return actions, tableaus, basic_vars_list\n",
    "    \n",
    "    return actions"
   ]
  },
  {
   "cell_type": "code",
   "execution_count": 27,
   "metadata": {
    "collapsed": false
   },
   "outputs": [
    {
     "name": "stdout",
     "output_type": "stream",
     "text": [
      "[[ 14.  -0.  16.   6.  -2.   4.]\n",
      " [  2.   6.   1.   0.   1.   1.]] [3 1]\n",
      "[[  6.  -0.  -3.  18.  -0.   3.]\n",
      " [ -0.   6.  -5.  12.  -0.   1.]\n",
      " [  0.   0.   1.   0.   6.   1.]] [0 1 4]\n",
      "[[ 14.  -0.  16.   6.  -2.   4.]\n",
      " [  3.  16.  -0.  -1.   3.   2.]] [2 1]\n",
      "[[ 12. -18.   9.  -0.  -0.   3.]\n",
      " [ -0.   6.  -5.  12.  -0.   1.]\n",
      " [ -0.  -0.   2.  -0.  12.   2.]] [0 3 4]\n",
      "[0 1/3 2/3] [1/3 2/3]\n"
     ]
    },
    {
     "data": {
      "text/plain": [
       "(array([0, 1/3, 2/3], dtype=object), array([1/3, 2/3], dtype=object))"
      ]
     },
     "execution_count": 27,
     "metadata": {},
     "output_type": "execute_result"
    }
   ],
   "source": [
    "Lemke_Howson_int(*create_tableau(A, B_T.T), 1, show_results = True)"
   ]
  },
  {
   "cell_type": "code",
   "execution_count": 28,
   "metadata": {
    "collapsed": false
   },
   "outputs": [],
   "source": [
    "#Enumerate all NEs that can be found by Lemke Howson algorithm\n",
    "def Lemke_Howson_all_int(A, B):\n",
    "    \n",
    "    #define the k of V_k\n",
    "    k = 0\n",
    "    \n",
    "    tableaus, basic_vars = create_tableau_int(A, B)\n",
    "    m, n = A.shape\n",
    "    NEs = []\n",
    "    basic_vars_found = []\n",
    "    player = (m <= n)\n",
    "    init_pivot = k\n",
    "    \n",
    "    action, tableau, basic_vars = Lemke_Howson_int(tableaus, basic_vars, init_pivot, return_tableau = True)\n",
    "    NEs.append(action)\n",
    "    basic_vars_found.append(np.sort(basic_vars[player]))\n",
    "    \n",
    "    for a in range(m+n):\n",
    "        if a == k:\n",
    "            continue\n",
    "        tableaus, basic_vars = create_tableau_int(A, B)\n",
    "        init_pivot = a\n",
    "        action, tableau, basic_vars = Lemke_Howson_int(tableaus, basic_vars, init_pivot, return_tableau = True)\n",
    "        for arr in basic_vars_found:\n",
    "            if np.array_equal(np.sort(basic_vars[player]), arr):\n",
    "                break\n",
    "        else:\n",
    "            NEs.append(action)\n",
    "            basic_vars_found.append(np.sort(basic_vars[player]))\n",
    "            \n",
    "            #start from the found NE by dropping k\n",
    "            action, tableau, basic_vars = Lemke_Howson_int(tableaus, basic_vars, k, return_tableau = True)\n",
    "            NEs.append(action)\n",
    "            basic_vars_found.append(np.sort(basic_vars[player]))\n",
    "    return NEs"
   ]
  },
  {
   "cell_type": "code",
   "execution_count": 29,
   "metadata": {
    "collapsed": false
   },
   "outputs": [
    {
     "data": {
      "text/plain": [
       "[(array([1, 0, 0], dtype=object), array([1, 0], dtype=object)),\n",
       " (array([0, 1/3, 2/3], dtype=object), array([1/3, 2/3], dtype=object)),\n",
       " (array([1/5, 4/5, 0], dtype=object), array([2/3, 1/3], dtype=object))]"
      ]
     },
     "execution_count": 29,
     "metadata": {},
     "output_type": "execute_result"
    }
   ],
   "source": [
    "Lemke_Howson_all_int(A, B_T.T)"
   ]
  },
  {
   "cell_type": "code",
   "execution_count": 36,
   "metadata": {
    "collapsed": true
   },
   "outputs": [],
   "source": [
    "C = np.array([[3, 3],\n",
    "              [2, 5],\n",
    "              [0 ,6]])\n",
    "D_T = np.array([[3, 2, 3],\n",
    "                [3, 6, 1]])"
   ]
  },
  {
   "cell_type": "code",
   "execution_count": 46,
   "metadata": {
    "collapsed": false
   },
   "outputs": [
    {
     "data": {
      "text/plain": [
       "[(array([ 1.,  0.,  0.]), array([ 1.,  0.])),\n",
       " (array([ 0.        ,  0.33333333,  0.66666667]),\n",
       "  array([ 0.33333333,  0.66666667])),\n",
       " (array([ 0.,  0.,  0.]), array([ 0.,  0.]))]"
      ]
     },
     "execution_count": 46,
     "metadata": {},
     "output_type": "execute_result"
    }
   ],
   "source": [
    "Lemke_Howson_all(C, D_T.T)"
   ]
  },
  {
   "cell_type": "code",
   "execution_count": null,
   "metadata": {
    "collapsed": true
   },
   "outputs": [],
   "source": []
  }
 ],
 "metadata": {
  "kernelspec": {
   "display_name": "Python [Root]",
   "language": "python",
   "name": "Python [Root]"
  },
  "language_info": {
   "codemirror_mode": {
    "name": "ipython",
    "version": 3
   },
   "file_extension": ".py",
   "mimetype": "text/x-python",
   "name": "python",
   "nbconvert_exporter": "python",
   "pygments_lexer": "ipython3",
   "version": "3.5.2"
  }
 },
 "nbformat": 4,
 "nbformat_minor": 0
}
